{
 "cells": [
  {
   "cell_type": "code",
   "execution_count": 1,
   "metadata": {},
   "outputs": [],
   "source": [
    "def sensor_group(datastring):\n",
    "    if datastring[0] == 'A':\n",
    "#         print(len(datastring))\n",
    "        Humidity.append(datastring[1:len(datastring)][:-1])\n",
    "#         print(Humidity)\n",
    "    else:\n",
    "        if datastring[0] == 'B':\n",
    "            DHT_Temp.append(datastring[1:len(datastring)][:-1])\n",
    "    #                 print(DHT_Temp)\n",
    "        else:\n",
    "            if datastring[0] == 'C':\n",
    "                Soil.append(datastring[1:len(datastring)][:-1])\n",
    "    #                     print(Soil)       \n",
    "            else:\n",
    "                if datastring[0] == 'D':\n",
    "                    Thermo.append(datastring[1:len(datastring)][:-1])\n",
    "    #                         print(Thermo)  \n",
    "    return Humidity, DHT_Temp, Soil, Thermo\n",
    "\n"
   ]
  },
  {
   "cell_type": "code",
   "execution_count": 30,
   "metadata": {},
   "outputs": [
    {
     "name": "stdout",
     "output_type": "stream",
     "text": [
      "24\n",
      "24\n",
      "24\n",
      "24\n",
      "['42.3', '42.3', '42.3', '42.3', '42.3', '42.4', '42.3', '42.3', '42.3', '42.3', '42.3', '42.3', '42.4', '42.3', '42.3', '42.3', '42.3', '42.3', '42.3', '42.3', '42.3', '42.3', '42.3', '42.3']\n",
      "['20.9', '20.9', '20.9', '20.9', '20.9', '20.9', '20.9', '20.9', '20.9', '20.9', '20.9', '20.9', '21.0', '20.9', '20.9', '20.9', '20.9', '20.9', '20.9', '20.9', '20.9', '20.9', '20.9', '20.9']\n",
      "['0', '0', '0', '0', '0', '0', '0', '0', '0', '0', '0', '0', '0', '0', '0', '0', '0', '0', '0', '0', '0', '0', '0', '0']\n",
      "['20.37', '20.37', '20.37', '20.37', '20.37', '20.37', '20.37', '20.37', '20.37', '20.37', '20.37', '20.37', '20.37', '20.37', '20.37', '20.37', '20.37', '20.37', '20.37', '20.37', '20.37', '20.37', '20.37', '20.37']\n"
     ]
    }
   ],
   "source": [
    "Humidity=[]\n",
    "DHT_Temp=[]\n",
    "Soil=[]\n",
    "Thermo=[]\n",
    "with open(\"Rawdata01.txt\", 'r') as f:\n",
    "    data = f.readlines()  \n",
    "for line in data:\n",
    "    Humidity, DHT_Temp, Soil,Thermo = sensor_group(line)\n",
    "\n",
    "print(len(Humidity))\n",
    "print(len(DHT_Temp))\n",
    "print(len(Soil))\n",
    "print(len(Thermo))\n",
    "print(Humidity)\n",
    "print(DHT_Temp)\n",
    "print(Soil)\n",
    "print(Thermo)"
   ]
  },
  {
   "cell_type": "code",
   "execution_count": 6,
   "metadata": {},
   "outputs": [
    {
     "name": "stdout",
     "output_type": "stream",
     "text": [
      "[<Worksheet 'Sheet1' id:0>]\n",
      "0\n",
      "42.3\n"
     ]
    },
    {
     "ename": "IndexError",
     "evalue": "list index out of range",
     "output_type": "error",
     "traceback": [
      "\u001b[1;31m---------------------------------------------------------------------------\u001b[0m",
      "\u001b[1;31mIndexError\u001b[0m                                Traceback (most recent call last)",
      "\u001b[1;32m<ipython-input-6-c1d575853e30>\u001b[0m in \u001b[0;36m<module>\u001b[1;34m()\u001b[0m\n\u001b[0;32m     28\u001b[0m     \u001b[1;31m#         print(i.id)\u001b[0m\u001b[1;33m\u001b[0m\u001b[1;33m\u001b[0m\u001b[0m\n\u001b[0;32m     29\u001b[0m         \u001b[0mprint\u001b[0m\u001b[1;33m(\u001b[0m\u001b[0mHumidity\u001b[0m\u001b[1;33m[\u001b[0m\u001b[0mi\u001b[0m\u001b[1;33m.\u001b[0m\u001b[0mid\u001b[0m\u001b[1;33m]\u001b[0m\u001b[1;33m)\u001b[0m\u001b[1;33m\u001b[0m\u001b[0m\n\u001b[1;32m---> 30\u001b[1;33m         \u001b[0mprint\u001b[0m\u001b[1;33m(\u001b[0m\u001b[0mDHT_Temp\u001b[0m\u001b[1;33m[\u001b[0m\u001b[0mi\u001b[0m\u001b[1;33m.\u001b[0m\u001b[0mid\u001b[0m\u001b[1;33m]\u001b[0m\u001b[1;33m)\u001b[0m\u001b[1;33m\u001b[0m\u001b[0m\n\u001b[0m\u001b[0;32m     31\u001b[0m         \u001b[0mprint\u001b[0m\u001b[1;33m(\u001b[0m\u001b[0mSoil\u001b[0m\u001b[1;33m[\u001b[0m\u001b[0mi\u001b[0m\u001b[1;33m.\u001b[0m\u001b[0mid\u001b[0m\u001b[1;33m]\u001b[0m\u001b[1;33m)\u001b[0m\u001b[1;33m\u001b[0m\u001b[0m\n\u001b[0;32m     32\u001b[0m         \u001b[0mprint\u001b[0m\u001b[1;33m(\u001b[0m\u001b[0mThermo\u001b[0m\u001b[1;33m[\u001b[0m\u001b[0mi\u001b[0m\u001b[1;33m.\u001b[0m\u001b[0mid\u001b[0m\u001b[1;33m]\u001b[0m\u001b[1;33m)\u001b[0m\u001b[1;33m\u001b[0m\u001b[0m\n",
      "\u001b[1;31mIndexError\u001b[0m: list index out of range"
     ]
    }
   ],
   "source": [
    "import gspread\n",
    "from oauth2client.service_account import ServiceAccountCredentials\n",
    "import time\n",
    "\n",
    "scope = ['https://spreadsheets.google.com/feeds','https://www.googleapis.com/auth/drive']\n",
    "credentials = ServiceAccountCredentials.from_json_keyfile_name('Trail-a7cf89fbdcf3.json', scope)\n",
    "# Import credentials\n",
    "client = gspread.authorize(credentials)\n",
    "# Open sheet\n",
    "sheet = client.open(\"IOT\").worksheets()\n",
    "print(sheet)\n",
    "# sh = client.create('A new spreadsheet')\n",
    "# sh.share('iot-969@trail-1212.iam.gserviceaccount.com', perm_type='user', role='writer')\n",
    "Humidity=[]\n",
    "DHT_Temp=[]\n",
    "Soil=[]\n",
    "Thermo=[]\n",
    "with open(\"Rawdata01.txt\", 'r') as f:\n",
    "    data = f.readlines() \n",
    "for line in data:\n",
    "    Humidity, DHT_Temp, Soil, Thermo = sensor_group(line)\n",
    "\n",
    "#     print(line)\n",
    "    for i in sheet:\n",
    "        print(i.id)\n",
    "\n",
    "    # sheet1.append_row([time_str, Humidity[i.id]])\n",
    "    #         print(i.id)\n",
    "        print(Humidity[i.id])\n",
    "        print(DHT_Temp[i.id])\n",
    "        print(Soil[i.id])\n",
    "        print(Thermo[i.id])\n",
    "        curr_time = time.localtime()\n",
    "        time_str = time.strftime(\"%m/%d/%Y %H:%M:%S\",curr_time)\n",
    "    #         print(Humidity[i.id])\n",
    "    #         print(time_str) , DHT_Temp[i.id], Soil[i.id], Thermo[i.id]\n",
    "        i.append_row([time_str, Humidity[i.id], DHT_Temp[i.id], Soil[i.id], Thermo[i.id]])"
   ]
  },
  {
   "cell_type": "code",
   "execution_count": 8,
   "metadata": {},
   "outputs": [
    {
     "name": "stdout",
     "output_type": "stream",
     "text": [
      "['0']\n"
     ]
    }
   ],
   "source": [
    "a=[]\n",
    "a.append('0')\n",
    "print(a)"
   ]
  }
 ],
 "metadata": {
  "kernelspec": {
   "display_name": "Python 3",
   "language": "python",
   "name": "python3"
  },
  "language_info": {
   "codemirror_mode": {
    "name": "ipython",
    "version": 3
   },
   "file_extension": ".py",
   "mimetype": "text/x-python",
   "name": "python",
   "nbconvert_exporter": "python",
   "pygments_lexer": "ipython3",
   "version": "3.6.4"
  }
 },
 "nbformat": 4,
 "nbformat_minor": 2
}
