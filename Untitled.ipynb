{
 "cells": [
  {
   "cell_type": "code",
   "execution_count": 1,
   "metadata": {},
   "outputs": [],
   "source": [
    "import serial, time, io, datetime\n",
    "from serial import Serial\n",
    "# import sys\n",
    "import pandas as pd\n",
    "import pdb\n",
    "import csv\n",
    "from IPython.core.debugger import set_trace\n",
    "\n",
    "import gspread\n",
    "from oauth2client.service_account import ServiceAccountCredentials"
   ]
  },
  {
   "cell_type": "code",
   "execution_count": 2,
   "metadata": {},
   "outputs": [
    {
     "name": "stdout",
     "output_type": "stream",
     "text": [
      "<oauth2client.service_account.ServiceAccountCredentials object at 0x00000125B3BE54E0>\n",
      "[<Worksheet 'Sheet1' id:0>]\n"
     ]
    }
   ],
   "source": [
    "scope = ['https://spreadsheets.google.com/feeds','https://www.googleapis.com/auth/drive']\n",
    "credentials = ServiceAccountCredentials.from_json_keyfile_name('Trail-a7cf89fbdcf3.json', scope)\n",
    "print(credentials)\n",
    "# Import credentials\n",
    "client = gspread.authorize(credentials)\n",
    "# Open sheet\n",
    "sheet = client.open(\"Test\").worksheets()\n",
    "print(sheet)"
   ]
  },
  {
   "cell_type": "code",
   "execution_count": 3,
   "metadata": {},
   "outputs": [
    {
     "name": "stdout",
     "output_type": "stream",
     "text": [
      "0\n",
      "0\n",
      "<Worksheet 'Sheet1' id:0>\n"
     ]
    },
    {
     "ename": "APIError",
     "evalue": "{\n  \"error\": {\n    \"code\": 400,\n    \"message\": \"Invalid value at 'data.values[0]' (type.googleapis.com/google.protobuf.ListValue), 0\",\n    \"status\": \"INVALID_ARGUMENT\",\n    \"details\": [\n      {\n        \"@type\": \"type.googleapis.com/google.rpc.BadRequest\",\n        \"fieldViolations\": [\n          {\n            \"field\": \"data.values[0]\",\n            \"description\": \"Invalid value at 'data.values[0]' (type.googleapis.com/google.protobuf.ListValue), 0\"\n          }\n        ]\n      }\n    ]\n  }\n}\n",
     "output_type": "error",
     "traceback": [
      "\u001b[1;31m---------------------------------------------------------------------------\u001b[0m",
      "\u001b[1;31mAPIError\u001b[0m                                  Traceback (most recent call last)",
      "\u001b[1;32m<ipython-input-3-6ef8be2fdb05>\u001b[0m in \u001b[0;36m<module>\u001b[1;34m()\u001b[0m\n\u001b[0;32m      6\u001b[0m         \u001b[0mprint\u001b[0m\u001b[1;33m(\u001b[0m\u001b[0mM\u001b[0m\u001b[1;33m[\u001b[0m\u001b[0mj\u001b[0m\u001b[1;33m-\u001b[0m\u001b[1;36m1\u001b[0m\u001b[1;33m]\u001b[0m\u001b[1;33m)\u001b[0m\u001b[1;33m\u001b[0m\u001b[0m\n\u001b[0;32m      7\u001b[0m         \u001b[0mprint\u001b[0m\u001b[1;33m(\u001b[0m\u001b[0mi\u001b[0m\u001b[1;33m)\u001b[0m\u001b[1;33m\u001b[0m\u001b[0m\n\u001b[1;32m----> 8\u001b[1;33m         \u001b[0mi\u001b[0m\u001b[1;33m.\u001b[0m\u001b[0mappend_row\u001b[0m\u001b[1;33m(\u001b[0m\u001b[0mM\u001b[0m\u001b[1;33m[\u001b[0m\u001b[0mj\u001b[0m\u001b[1;33m-\u001b[0m\u001b[1;36m1\u001b[0m\u001b[1;33m]\u001b[0m\u001b[1;33m)\u001b[0m\u001b[1;33m\u001b[0m\u001b[0m\n\u001b[0m",
      "\u001b[1;32m~\\AppData\\Local\\Continuum\\Anaconda3\\envs\\fusion\\lib\\site-packages\\gspread\\models.py\u001b[0m in \u001b[0;36mappend_row\u001b[1;34m(self, values, value_input_option)\u001b[0m\n\u001b[0;32m    700\u001b[0m         }\n\u001b[0;32m    701\u001b[0m \u001b[1;33m\u001b[0m\u001b[0m\n\u001b[1;32m--> 702\u001b[1;33m         \u001b[1;32mreturn\u001b[0m \u001b[0mself\u001b[0m\u001b[1;33m.\u001b[0m\u001b[0mspreadsheet\u001b[0m\u001b[1;33m.\u001b[0m\u001b[0mvalues_append\u001b[0m\u001b[1;33m(\u001b[0m\u001b[0mself\u001b[0m\u001b[1;33m.\u001b[0m\u001b[0mtitle\u001b[0m\u001b[1;33m,\u001b[0m \u001b[0mparams\u001b[0m\u001b[1;33m,\u001b[0m \u001b[0mbody\u001b[0m\u001b[1;33m)\u001b[0m\u001b[1;33m\u001b[0m\u001b[0m\n\u001b[0m\u001b[0;32m    703\u001b[0m \u001b[1;33m\u001b[0m\u001b[0m\n\u001b[0;32m    704\u001b[0m     def insert_row(\n",
      "\u001b[1;32m~\\AppData\\Local\\Continuum\\Anaconda3\\envs\\fusion\\lib\\site-packages\\gspread\\models.py\u001b[0m in \u001b[0;36mvalues_append\u001b[1;34m(self, range, params, body)\u001b[0m\n\u001b[0;32m     98\u001b[0m     \u001b[1;32mdef\u001b[0m \u001b[0mvalues_append\u001b[0m\u001b[1;33m(\u001b[0m\u001b[0mself\u001b[0m\u001b[1;33m,\u001b[0m \u001b[0mrange\u001b[0m\u001b[1;33m,\u001b[0m \u001b[0mparams\u001b[0m\u001b[1;33m,\u001b[0m \u001b[0mbody\u001b[0m\u001b[1;33m)\u001b[0m\u001b[1;33m:\u001b[0m\u001b[1;33m\u001b[0m\u001b[0m\n\u001b[0;32m     99\u001b[0m         \u001b[0murl\u001b[0m \u001b[1;33m=\u001b[0m \u001b[0mSPREADSHEET_VALUES_APPEND_URL\u001b[0m \u001b[1;33m%\u001b[0m \u001b[1;33m(\u001b[0m\u001b[0mself\u001b[0m\u001b[1;33m.\u001b[0m\u001b[0mid\u001b[0m\u001b[1;33m,\u001b[0m \u001b[0mquote\u001b[0m\u001b[1;33m(\u001b[0m\u001b[0mrange\u001b[0m\u001b[1;33m,\u001b[0m \u001b[0msafe\u001b[0m\u001b[1;33m=\u001b[0m\u001b[1;34m''\u001b[0m\u001b[1;33m)\u001b[0m\u001b[1;33m)\u001b[0m\u001b[1;33m\u001b[0m\u001b[0m\n\u001b[1;32m--> 100\u001b[1;33m         \u001b[0mr\u001b[0m \u001b[1;33m=\u001b[0m \u001b[0mself\u001b[0m\u001b[1;33m.\u001b[0m\u001b[0mclient\u001b[0m\u001b[1;33m.\u001b[0m\u001b[0mrequest\u001b[0m\u001b[1;33m(\u001b[0m\u001b[1;34m'post'\u001b[0m\u001b[1;33m,\u001b[0m \u001b[0murl\u001b[0m\u001b[1;33m,\u001b[0m \u001b[0mparams\u001b[0m\u001b[1;33m=\u001b[0m\u001b[0mparams\u001b[0m\u001b[1;33m,\u001b[0m \u001b[0mjson\u001b[0m\u001b[1;33m=\u001b[0m\u001b[0mbody\u001b[0m\u001b[1;33m)\u001b[0m\u001b[1;33m\u001b[0m\u001b[0m\n\u001b[0m\u001b[0;32m    101\u001b[0m         \u001b[1;32mreturn\u001b[0m \u001b[0mr\u001b[0m\u001b[1;33m.\u001b[0m\u001b[0mjson\u001b[0m\u001b[1;33m(\u001b[0m\u001b[1;33m)\u001b[0m\u001b[1;33m\u001b[0m\u001b[0m\n\u001b[0;32m    102\u001b[0m \u001b[1;33m\u001b[0m\u001b[0m\n",
      "\u001b[1;32m~\\AppData\\Local\\Continuum\\Anaconda3\\envs\\fusion\\lib\\site-packages\\gspread\\client.py\u001b[0m in \u001b[0;36mrequest\u001b[1;34m(self, method, endpoint, params, data, json, files, headers)\u001b[0m\n\u001b[0;32m     77\u001b[0m             \u001b[1;32mreturn\u001b[0m \u001b[0mresponse\u001b[0m\u001b[1;33m\u001b[0m\u001b[0m\n\u001b[0;32m     78\u001b[0m         \u001b[1;32melse\u001b[0m\u001b[1;33m:\u001b[0m\u001b[1;33m\u001b[0m\u001b[0m\n\u001b[1;32m---> 79\u001b[1;33m             \u001b[1;32mraise\u001b[0m \u001b[0mAPIError\u001b[0m\u001b[1;33m(\u001b[0m\u001b[0mresponse\u001b[0m\u001b[1;33m)\u001b[0m\u001b[1;33m\u001b[0m\u001b[0m\n\u001b[0m\u001b[0;32m     80\u001b[0m \u001b[1;33m\u001b[0m\u001b[0m\n\u001b[0;32m     81\u001b[0m     \u001b[1;32mdef\u001b[0m \u001b[0mlist_spreadsheet_files\u001b[0m\u001b[1;33m(\u001b[0m\u001b[0mself\u001b[0m\u001b[1;33m)\u001b[0m\u001b[1;33m:\u001b[0m\u001b[1;33m\u001b[0m\u001b[0m\n",
      "\u001b[1;31mAPIError\u001b[0m: {\n  \"error\": {\n    \"code\": 400,\n    \"message\": \"Invalid value at 'data.values[0]' (type.googleapis.com/google.protobuf.ListValue), 0\",\n    \"status\": \"INVALID_ARGUMENT\",\n    \"details\": [\n      {\n        \"@type\": \"type.googleapis.com/google.rpc.BadRequest\",\n        \"fieldViolations\": [\n          {\n            \"field\": \"data.values[0]\",\n            \"description\": \"Invalid value at 'data.values[0]' (type.googleapis.com/google.protobuf.ListValue), 0\"\n          }\n        ]\n      }\n    ]\n  }\n}\n"
     ]
    }
   ],
   "source": [
    "M=[]\n",
    "for j in range(10):\n",
    "    print(j)\n",
    "    for i in sheet:\n",
    "        M.append(j)\n",
    "        print(M[j-1])\n",
    "        print(i)\n",
    "        i.append_row(M[j-1])"
   ]
  },
  {
   "cell_type": "code",
   "execution_count": null,
   "metadata": {},
   "outputs": [],
   "source": [
    "def sec_to_min(time_sec):\n",
    "    time_min = time_sec/60\n",
    "    return time_min\n",
    "print(sec_to_min(900))"
   ]
  },
  {
   "cell_type": "code",
   "execution_count": null,
   "metadata": {},
   "outputs": [],
   "source": [
    "Humidity=[]\n",
    "DHT_Temp=[]\n",
    "Soil=[]\n",
    "Thermo=[]\n",
    "with open(\"Rawdata01.txt\", 'r') as f:\n",
    "    data = f.readlines()  \n",
    "for line in data:\n",
    "    Humidity, DHT_Temp, Soil,Thermo = sensor_group(line)\n",
    "\n",
    "print(len(Humidity))\n",
    "print(len(DHT_Temp))\n",
    "print(len(Soil))\n",
    "print(len(Thermo))\n",
    "print(Humidity)\n",
    "print(DHT_Temp)\n",
    "print(Soil)\n",
    "print(Thermo)"
   ]
  },
  {
   "cell_type": "code",
   "execution_count": null,
   "metadata": {},
   "outputs": [],
   "source": [
    "import gspread\n",
    "from oauth2client.service_account import ServiceAccountCredentials\n",
    "import time\n",
    "\n",
    "scope = ['https://spreadsheets.google.com/feeds','https://www.googleapis.com/auth/drive']\n",
    "credentials = ServiceAccountCredentials.from_json_keyfile_name('Trail-a7cf89fbdcf3.json', scope)\n",
    "# Import credentials\n",
    "client = gspread.authorize(credentials)\n",
    "# Open sheet\n",
    "sheet = client.open(\"IOT\").worksheets()\n",
    "print(sheet)\n",
    "# sh = client.create('A new spreadsheet')\n",
    "# sh.share('iot-969@trail-1212.iam.gserviceaccount.com', perm_type='user', role='writer')\n",
    "Humidity=[]\n",
    "DHT_Temp=[]\n",
    "Soil=[]\n",
    "Thermo=[]\n",
    "with open(\"Rawdata01.txt\", 'r') as f:\n",
    "    data = f.readlines() \n",
    "for line in data:\n",
    "    Humidity, DHT_Temp, Soil, Thermo = sensor_group(line)\n",
    "\n",
    "#     print(line)\n",
    "    for i in sheet:\n",
    "        print(i.id)\n",
    "\n",
    "    # sheet1.append_row([time_str, Humidity[i.id]])\n",
    "    #         print(i.id)\n",
    "        print(Humidity[i.id])\n",
    "        print(DHT_Temp[i.id])\n",
    "        print(Soil[i.id])\n",
    "        print(Thermo[i.id])\n",
    "        curr_time = time.localtime()\n",
    "        time_str = time.strftime(\"%m/%d/%Y %H:%M:%S\",curr_time)\n",
    "    #         print(Humidity[i.id])\n",
    "    #         print(time_str) , DHT_Temp[i.id], Soil[i.id], Thermo[i.id]\n",
    "        i.append_row([time_str, Humidity[i.id], DHT_Temp[i.id], Soil[i.id], Thermo[i.id]])"
   ]
  },
  {
   "cell_type": "code",
   "execution_count": null,
   "metadata": {},
   "outputs": [],
   "source": [
    "a=[]\n",
    "a.append('0')\n",
    "print(a)"
   ]
  }
 ],
 "metadata": {
  "kernelspec": {
   "display_name": "Python 3",
   "language": "python",
   "name": "python3"
  },
  "language_info": {
   "codemirror_mode": {
    "name": "ipython",
    "version": 3
   },
   "file_extension": ".py",
   "mimetype": "text/x-python",
   "name": "python",
   "nbconvert_exporter": "python",
   "pygments_lexer": "ipython3",
   "version": "3.6.5"
  },
  "latex_envs": {
   "LaTeX_envs_menu_present": true,
   "autocomplete": true,
   "bibliofile": "biblio.bib",
   "cite_by": "apalike",
   "current_citInitial": 1,
   "eqLabelWithNumbers": true,
   "eqNumInitial": 1,
   "hotkeys": {
    "equation": "Ctrl-E",
    "itemize": "Ctrl-I"
   },
   "labels_anchors": false,
   "latex_user_defs": false,
   "report_style_numbering": false,
   "user_envs_cfg": false
  }
 },
 "nbformat": 4,
 "nbformat_minor": 2
}
