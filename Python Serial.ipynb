{
 "cells": [
  {
   "cell_type": "code",
   "execution_count": 1,
   "metadata": {},
   "outputs": [],
   "source": [
    "import serial\n",
    "import sys\n",
    "from time import time"
   ]
  },
  {
   "cell_type": "code",
   "execution_count": 2,
   "metadata": {},
   "outputs": [
    {
     "name": "stdout",
     "output_type": "stream",
     "text": [
      "b'= 0'\n"
     ]
    }
   ],
   "source": [
    "ser = serial.Serial('COM4', 9600)\n",
    "data = ser.readline()[:-2]\n",
    "print(data)"
   ]
  },
  {
   "cell_type": "code",
   "execution_count": null,
   "metadata": {},
   "outputs": [],
   "source": [
    "from __future__ import print_function\n",
    "import serial, time, io, datetime\n",
    "from serial import Serial\n",
    "\n",
    "addr = \"COM4\" ## serial port to read data from\n",
    "baud = 9600 ## baud rate for instrument\n",
    "\n",
    "ser = serial.Serial(\n",
    "    port = addr,\\\n",
    "    baudrate = baud,\\\n",
    "    parity=serial.PARITY_NONE,\\\n",
    "    stopbits=serial.STOPBITS_ONE,\\\n",
    "    bytesize=serial.EIGHTBITS,\\\n",
    "    timeout=0)\n",
    "\n",
    "\n",
    "print(\"Connected to: \" + ser.portstr)\n",
    "\n",
    "filename=\"myFile.txt\"\n",
    "datafile=open(filename, 'a')\n",
    "\n",
    "## this will store each line of data\n",
    "seq = []\n",
    "count = 1 ## row index\n",
    "\n",
    "while True:\n",
    "    for i in ser.readline()[:-2]:\n",
    "        seq.append(i) ## convert from ACSII?\n",
    "#         joined_seq = ''.join(str(v) for v in seq) ## Make a string from array\n",
    "        print(seq)\n",
    "\n",
    "        if i == '\\n':\n",
    "            datafile.write(\"Line: \" + str(count) + \"\" + str(datetime.datetime.now()) + joined_seq) ## append a timestamp to each row of data\n",
    "            seq = []\n",
    "            count += 1\n",
    "            break\n",
    "datafile.close()\n",
    "ser.close()"
   ]
  },
  {
   "cell_type": "code",
   "execution_count": null,
   "metadata": {},
   "outputs": [],
   "source": [
    "ser = serial.Serial('COM4', 9600)\n",
    "seq = []\n",
    "while True:\n",
    "     for i in ser.readline()[:-2]:\n",
    "#         seq.append(i) ## convert from ACSII?\n",
    "#         joined_seq = ''.join(str(v) for v in seq) ## Make a string from array\n",
    "        print(i)"
   ]
  },
  {
   "cell_type": "code",
   "execution_count": null,
   "metadata": {},
   "outputs": [],
   "source": [
    "# with serial.Serial('COM4', 9600) as ser:\n",
    "ser = serial.Serial('COM4', 9600)\n",
    "#     x = ser.read(80) \n",
    "#     print(x)\n",
    "# line = ser.readline()[:-2]\n",
    "print(ser)\n",
    "# flush any junk left in the serial buffer\n",
    "# ser.flushInput()\n",
    "# # ser.reset_input_buffer() # for pyserial 3.0+\n",
    "# run = True"
   ]
  },
  {
   "cell_type": "code",
   "execution_count": null,
   "metadata": {},
   "outputs": [],
   "source": [
    "start_time = time()\n",
    "timepoints = []\n",
    "ydata = []\n",
    "while True:\n",
    "    data = ser.readline()[:-2] #the last bit gets rid of the new-line chars\n",
    "        # sometimes the incoming data is garbage, so just 'try' to do this\n",
    "        # store the entire dataset for later\n",
    "    ydata.append(data)\n",
    "    timepoints.append(time()-start_time)\n",
    "    current_time = timepoints[-1]\n",
    "    print(data.type)\n"
   ]
  },
  {
   "cell_type": "code",
   "execution_count": null,
   "metadata": {},
   "outputs": [],
   "source": [
    "print(ydata[0])"
   ]
  },
  {
   "cell_type": "code",
   "execution_count": null,
   "metadata": {},
   "outputs": [],
   "source": [
    "%matplotlib notebook\n",
    "\n",
    "# run this in a Jupyter (IPython) Notebook!\n",
    "# modified from http://www.lebsanft.org/?p=48\n",
    "# http://pyserial.readthedocs.org/en/latest/pyserial_api.html\n",
    "import serial\n",
    "import numpy as np\n",
    "from matplotlib import pyplot as plt\n",
    "from time import time\n",
    "\n",
    "# If you're not using Linux, you'll need to change this\n",
    "# check the Arduino IDE to see what serial port it's attached to\n",
    "ser = serial.Serial('COM4', 9600)\n",
    "\n",
    "# set plot to animated\n",
    "plt.ion() \n",
    "\n",
    "start_time = time()\n",
    "timepoints = []\n",
    "ydata = []\n",
    "yrange = [-0.1,5.1]\n",
    "view_time = 4 # seconds of data to view at once\n",
    "duration = 24 # total seconds to collect data\n",
    "\n",
    "fig1 = plt.figure()\n",
    "# http://matplotlib.org/users/text_props.html\n",
    "fig1.suptitle('live updated data', fontsize='18', fontweight='bold')\n",
    "plt.xlabel('time, seconds', fontsize='14', fontstyle='italic')\n",
    "plt.ylabel('potential, volts', fontsize='14', fontstyle='italic')\n",
    "plt.axes().grid(True)\n",
    "line1, = plt.plot(ydata,marker='o',markersize=4,linestyle='none',markerfacecolor='red')\n",
    "plt.ylim(yrange)\n",
    "plt.xlim([0,view_time])\n",
    "\n",
    "# flush any junk left in the serial buffer\n",
    "ser.flushInput()\n",
    "# ser.reset_input_buffer() # for pyserial 3.0+\n",
    "run = True\n",
    "\n",
    "# collect the data and plot a moving frame\n",
    "while run:\n",
    "    ser.reset_input_buffer()\n",
    "    data = ser.readline()[:-2]\n",
    "    \n",
    "    # sometimes the incoming data is garbage, so just 'try' to do this\n",
    "    try:\n",
    "        # store the entire dataset for later\n",
    "        ydata.append(float(data[0])*5.0/1024)\n",
    "        timepoints.append(time()-start_time)\n",
    "        current_time = timepoints[-1]\n",
    "        \n",
    "        # update the plotted data\n",
    "        line1.set_xdata(timepoints)\n",
    "        line1.set_ydata(ydata)\n",
    "        \n",
    "        # slide the viewing frame along\n",
    "        if current_time > view_time:\n",
    "            plt.xlim([current_time-view_time,current_time])\n",
    "            \n",
    "        # when time's up, kill the collect+plot loop\n",
    "        if timepoints[-1] > duration: run=False\n",
    "    \n",
    "    # if the try statement throws an error, just do nothing\n",
    "    except: pass\n",
    "    \n",
    "    # update the plot\n",
    "    fig1.canvas.draw()\n",
    "\n",
    "# plot all of the data you collected\n",
    "fig2 = plt.figure()\n",
    "# http://matplotlib.org/users/text_props.html\n",
    "fig2.suptitle('complete data trace', fontsize='18', fontweight='bold')\n",
    "plt.xlabel('time, seconds', fontsize='14', fontstyle='italic')\n",
    "plt.ylabel('potential, volts', fontsize='14', fontstyle='italic')\n",
    "plt.axes().grid(True)\n",
    "\n",
    "plt.plot(timepoints, ydata,marker='o',markersize=4,linestyle='none',markerfacecolor='red')\n",
    "plt.ylim(yrange)\n",
    "fig2.show()\n",
    "\n",
    "ser.close()"
   ]
  }
 ],
 "metadata": {
  "kernelspec": {
   "display_name": "Python 3",
   "language": "python",
   "name": "python3"
  },
  "language_info": {
   "codemirror_mode": {
    "name": "ipython",
    "version": 3
   },
   "file_extension": ".py",
   "mimetype": "text/x-python",
   "name": "python",
   "nbconvert_exporter": "python",
   "pygments_lexer": "ipython3",
   "version": "3.6.4"
  }
 },
 "nbformat": 4,
 "nbformat_minor": 1
}
